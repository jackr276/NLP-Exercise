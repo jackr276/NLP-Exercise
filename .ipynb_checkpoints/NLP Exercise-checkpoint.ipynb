{
 "cells": [
  {
   "cell_type": "markdown",
   "id": "9a70e3c8",
   "metadata": {},
   "source": [
    "# Jack Robbins\n",
    "## 10/23/2022"
   ]
  },
  {
   "cell_type": "markdown",
   "id": "e6e35dce",
   "metadata": {},
   "source": [
    "All needed import statements"
   ]
  },
  {
   "cell_type": "code",
   "execution_count": 15,
   "id": "d1adbc24",
   "metadata": {},
   "outputs": [],
   "source": [
    "import requests\n",
    "from bs4 import BeautifulSoup\n",
    "from textblob import TextBlob\n",
    "from textblob.sentiments import NaiveBayesAnalyzer"
   ]
  },
  {
   "cell_type": "markdown",
   "id": "2553d4fc",
   "metadata": {},
   "source": [
    "# Problem 12.3 from the textbook\n",
    "Pull in the news article\n",
    "Article being used: https://apnews.com/article/iran-technology-dubai-middle-east-business-944d99079fca61439d64054db6bde941?utm_source=homepage&utm_medium=TopNews&utm_campaign=position_02"
   ]
  },
  {
   "cell_type": "code",
   "execution_count": 12,
   "id": "32da680f",
   "metadata": {},
   "outputs": [],
   "source": [
    "news_article = requests.get('https://apnews.com/article/iran-technology-dubai-middle-east-business-944d99079fca61439d64054db6bde941?utm_source=homepage&utm_medium=TopNews&utm_campaign=position_02')"
   ]
  },
  {
   "cell_type": "markdown",
   "id": "3fea0298",
   "metadata": {},
   "source": [
    "Create a textblob out of the article and perform the sentiment analysis for the entire article"
   ]
  },
  {
   "cell_type": "code",
   "execution_count": 13,
   "id": "cd1ac28c",
   "metadata": {},
   "outputs": [
    {
     "data": {
      "text/plain": [
       "Sentiment(polarity=-0.26474348694395244, subjectivity=0.5993116113353238)"
      ]
     },
     "execution_count": 13,
     "metadata": {},
     "output_type": "execute_result"
    }
   ],
   "source": [
    "soup = BeautifulSoup(news_article.content, 'html5lib')\n",
    "text = soup.get_text(strip = True)\n",
    "myTextBlob = TextBlob(text)\n",
    "myTextBlob.sentiment"
   ]
  },
  {
   "cell_type": "markdown",
   "id": "d166cdab",
   "metadata": {},
   "source": [
    "Perform sentiment analysis for each of the sentences"
   ]
  },
  {
   "cell_type": "code",
   "execution_count": 14,
   "id": "e65769d7",
   "metadata": {},
   "outputs": [
    {
     "name": "stdout",
     "output_type": "stream",
     "text": [
      "Sentiment(polarity=-0.11499999999999999, subjectivity=0.4050000000000001)\n",
      "Sentiment(polarity=-0.10625000000000001, subjectivity=0.8874999999999998)\n",
      "Sentiment(polarity=0.0, subjectivity=0.0)\n",
      "Sentiment(polarity=0.0, subjectivity=0.0)\n",
      "Sentiment(polarity=0.0, subjectivity=1.0)\n",
      "Sentiment(polarity=0.0, subjectivity=0.0)\n",
      "Sentiment(polarity=0.0, subjectivity=0.0)\n",
      "Sentiment(polarity=0.03186335403726708, subjectivity=0.4457763975155281)\n",
      "Sentiment(polarity=0.5, subjectivity=0.5)\n",
      "Sentiment(polarity=0.0, subjectivity=0.0)\n",
      "Sentiment(polarity=0.16666666666666666, subjectivity=0.3166666666666667)\n",
      "Sentiment(polarity=0.043750000000000004, subjectivity=0.25625000000000003)\n",
      "Sentiment(polarity=0.25, subjectivity=0.3333333333333333)\n",
      "Sentiment(polarity=0.0, subjectivity=0.225)\n",
      "Sentiment(polarity=0.043750000000000004, subjectivity=0.25625000000000003)\n",
      "Sentiment(polarity=0.25, subjectivity=0.3333333333333333)\n",
      "Sentiment(polarity=0.035, subjectivity=0.22500000000000003)\n",
      "Sentiment(polarity=0.0, subjectivity=0.2)\n",
      "Sentiment(polarity=0.15, subjectivity=0.21666666666666667)\n",
      "Sentiment(polarity=0.05555555555555556, subjectivity=0.38888888888888884)\n",
      "Sentiment(polarity=0.0, subjectivity=0.0)\n",
      "Sentiment(polarity=-0.10545454545454547, subjectivity=0.4209090909090909)\n",
      "Sentiment(polarity=-0.125, subjectivity=0.125)\n",
      "Sentiment(polarity=-0.18373015873015874, subjectivity=0.37142857142857144)\n",
      "Sentiment(polarity=0.3, subjectivity=0.9)\n",
      "Sentiment(polarity=0.1388888888888889, subjectivity=0.4222222222222222)\n",
      "Sentiment(polarity=0.0, subjectivity=0.0)\n",
      "Sentiment(polarity=-0.47354651162790634, subjectivity=0.7235465116279076)\n",
      "Sentiment(polarity=0.0, subjectivity=0.0)\n",
      "Sentiment(polarity=0.0, subjectivity=0.0625)\n",
      "Sentiment(polarity=0.5, subjectivity=0.5)\n",
      "Sentiment(polarity=-0.15, subjectivity=0.75)\n",
      "Sentiment(polarity=0.0, subjectivity=0.0)\n",
      "Sentiment(polarity=0.02083333333333333, subjectivity=0.22916666666666666)\n",
      "Sentiment(polarity=0.0, subjectivity=0.0)\n",
      "Sentiment(polarity=-0.125, subjectivity=0.375)\n",
      "Sentiment(polarity=-0.39811320754716983, subjectivity=0.6235849056603778)\n",
      "Sentiment(polarity=-0.05000000000000001, subjectivity=0.03333333333333333)\n",
      "Sentiment(polarity=-0.13333333333333333, subjectivity=0.5833333333333334)\n",
      "Sentiment(polarity=-0.05000000000000001, subjectivity=0.03333333333333333)\n",
      "Sentiment(polarity=-0.3869047619047621, subjectivity=0.6380952380952382)\n",
      "Sentiment(polarity=-0.06666666666666667, subjectivity=0.09999999999999999)\n",
      "Sentiment(polarity=0.0, subjectivity=0.0)\n",
      "Sentiment(polarity=0.0, subjectivity=0.0)\n",
      "Sentiment(polarity=0.0, subjectivity=0.0)\n",
      "Sentiment(polarity=0.0, subjectivity=0.0)\n",
      "Sentiment(polarity=-0.0851851851851852, subjectivity=0.14629629629629629)\n",
      "Sentiment(polarity=0.0, subjectivity=0.0)\n",
      "Sentiment(polarity=-0.7142857142857143, subjectivity=0.8571428571428571)\n",
      "Sentiment(polarity=0.125, subjectivity=0.21666666666666667)\n",
      "Sentiment(polarity=0.4, subjectivity=0.65)\n",
      "Sentiment(polarity=0.22727272727272724, subjectivity=0.3)\n",
      "Sentiment(polarity=0.0, subjectivity=0.5)\n",
      "Sentiment(polarity=0.16666666666666666, subjectivity=0.3333333333333333)\n",
      "Sentiment(polarity=-0.15, subjectivity=0.44999999999999996)\n",
      "Sentiment(polarity=0.275, subjectivity=0.38125)\n",
      "Sentiment(polarity=-0.30000000000000004, subjectivity=0.2)\n",
      "Sentiment(polarity=0.0, subjectivity=0.0)\n",
      "Sentiment(polarity=-0.1125, subjectivity=0.0875)\n",
      "Sentiment(polarity=0.015000000000000003, subjectivity=0.325)\n",
      "Sentiment(polarity=0.0, subjectivity=0.0)\n",
      "Sentiment(polarity=-0.75, subjectivity=1.0)\n",
      "Sentiment(polarity=-0.36888111888111874, subjectivity=0.6388578088578094)\n",
      "Sentiment(polarity=-0.2, subjectivity=0.825)\n",
      "Sentiment(polarity=-0.3701773835920179, subjectivity=0.6400591278640058)\n",
      "Sentiment(polarity=0.1375, subjectivity=0.4333333333333333)\n",
      "Sentiment(polarity=0.0, subjectivity=0.0)\n",
      "Sentiment(polarity=0.15, subjectivity=0.44666666666666666)\n",
      "Sentiment(polarity=-0.02121212121212122, subjectivity=0.3)\n",
      "Sentiment(polarity=0.0, subjectivity=0.5)\n",
      "Sentiment(polarity=-0.4, subjectivity=0.4)\n",
      "Sentiment(polarity=0.0, subjectivity=0.0)\n",
      "Sentiment(polarity=0.25, subjectivity=0.3333333333333333)\n",
      "Sentiment(polarity=-0.3333333333333333, subjectivity=0.43333333333333335)\n",
      "Sentiment(polarity=0.25, subjectivity=0.3)\n",
      "Sentiment(polarity=-0.1875, subjectivity=0.3416666666666666)\n",
      "Sentiment(polarity=-0.1, subjectivity=0.0)\n",
      "Sentiment(polarity=0.375, subjectivity=0.41666666666666663)\n",
      "Sentiment(polarity=-0.17857142857142858, subjectivity=0.2857142857142857)\n",
      "Sentiment(polarity=0.08125, subjectivity=0.45)\n",
      "Sentiment(polarity=0.016666666666666666, subjectivity=0.23333333333333334)\n",
      "Sentiment(polarity=-0.09000000000000001, subjectivity=0.36)\n",
      "Sentiment(polarity=-0.20833333333333334, subjectivity=0.5416666666666666)\n",
      "Sentiment(polarity=-0.053125, subjectivity=0.353125)\n",
      "Sentiment(polarity=-0.3807692307692309, subjectivity=0.6221153846153851)\n",
      "Sentiment(polarity=-0.05000000000000001, subjectivity=0.03333333333333333)\n",
      "Sentiment(polarity=-0.13333333333333333, subjectivity=0.5833333333333334)\n",
      "Sentiment(polarity=-0.05000000000000001, subjectivity=0.03333333333333333)\n",
      "Sentiment(polarity=-0.4234375000000002, subjectivity=0.6781250000000001)\n",
      "Sentiment(polarity=-0.15, subjectivity=0.3)\n",
      "Sentiment(polarity=0.125, subjectivity=0.1875)\n",
      "Sentiment(polarity=0.1, subjectivity=0.5)\n",
      "Sentiment(polarity=0.0, subjectivity=0.0)\n",
      "Sentiment(polarity=0.008333333333333333, subjectivity=0.26666666666666666)\n",
      "Sentiment(polarity=0.125, subjectivity=0.21666666666666667)\n",
      "Sentiment(polarity=-0.037727272727272734, subjectivity=0.255)\n",
      "Sentiment(polarity=-0.4481250000000002, subjectivity=0.671875)\n",
      "Sentiment(polarity=0.043750000000000004, subjectivity=0.25625000000000003)\n",
      "Sentiment(polarity=0.25, subjectivity=0.3333333333333333)\n",
      "Sentiment(polarity=-0.1, subjectivity=0.5249999999999999)\n",
      "Sentiment(polarity=0.043750000000000004, subjectivity=0.25625000000000003)\n",
      "Sentiment(polarity=0.25, subjectivity=0.3333333333333333)\n",
      "Sentiment(polarity=-0.3234693877551022, subjectivity=0.5908163265306123)\n",
      "Sentiment(polarity=0.0, subjectivity=0.2)\n",
      "Sentiment(polarity=0.15, subjectivity=0.21666666666666667)\n",
      "Sentiment(polarity=0.05555555555555556, subjectivity=0.38888888888888884)\n",
      "Sentiment(polarity=0.0, subjectivity=0.0)\n",
      "Sentiment(polarity=0.04545454545454545, subjectivity=0.25)\n",
      "Sentiment(polarity=-0.125, subjectivity=0.125)\n",
      "Sentiment(polarity=-0.25, subjectivity=0.2833333333333333)\n",
      "Sentiment(polarity=-0.1505952380952381, subjectivity=0.4154761904761905)\n",
      "Sentiment(polarity=0.3, subjectivity=0.9)\n",
      "Sentiment(polarity=0.11111111111111112, subjectivity=0.4377777777777777)\n",
      "Sentiment(polarity=0.0, subjectivity=0.0)\n",
      "Sentiment(polarity=-0.3664723032069984, subjectivity=0.7317055393585997)\n",
      "Sentiment(polarity=0.25, subjectivity=0.5125)\n",
      "Sentiment(polarity=-0.29500000000000004, subjectivity=0.75)\n"
     ]
    }
   ],
   "source": [
    "for sentence in myTextBlob.sentences:\n",
    "    print(sentence.sentiment)"
   ]
  },
  {
   "cell_type": "markdown",
   "id": "1d62528f",
   "metadata": {},
   "source": [
    "# Problem 12.4 from the textbook\n",
    "\n",
    "Same process as 12.3, but now using the naiveBayesAnalyzer instead"
   ]
  },
  {
   "cell_type": "code",
   "execution_count": 19,
   "id": "330fec4b",
   "metadata": {},
   "outputs": [
    {
     "data": {
      "text/plain": [
       "Sentiment(classification='pos', p_pos=1.0, p_neg=4.269535494221668e-80)"
      ]
     },
     "execution_count": 19,
     "metadata": {},
     "output_type": "execute_result"
    }
   ],
   "source": [
    "myTextBlob2 = TextBlob(text, analyzer = NaiveBayesAnalyzer())\n",
    "myTextBlob2.sentiment"
   ]
  },
  {
   "cell_type": "markdown",
   "id": "c8947d63",
   "metadata": {},
   "source": [
    "Perform sentiment analysis on every sentence"
   ]
  },
  {
   "cell_type": "code",
   "execution_count": 20,
   "id": "a3c6871b",
   "metadata": {},
   "outputs": [
    {
     "name": "stdout",
     "output_type": "stream",
     "text": [
      "Sentiment(classification='pos', p_pos=0.9963186208719202, p_neg=0.0036813791280717197)\n",
      "Sentiment(classification='neg', p_pos=0.32772630042085027, p_neg=0.6722736995791576)\n",
      "Sentiment(classification='pos', p_pos=0.5, p_neg=0.5)\n",
      "Sentiment(classification='pos', p_pos=0.5, p_neg=0.5)\n",
      "Sentiment(classification='neg', p_pos=0.42952078508318753, p_neg=0.5704792149168123)\n",
      "Sentiment(classification='pos', p_pos=0.5, p_neg=0.5)\n",
      "Sentiment(classification='pos', p_pos=0.5, p_neg=0.5)\n",
      "Sentiment(classification='pos', p_pos=0.9953092826507821, p_neg=0.004690717349236133)\n",
      "Sentiment(classification='pos', p_pos=0.5265625000000002, p_neg=0.4734375000000001)\n",
      "Sentiment(classification='pos', p_pos=0.5, p_neg=0.5)\n",
      "Sentiment(classification='neg', p_pos=0.002198343570501626, p_neg=0.997801656429501)\n",
      "Sentiment(classification='pos', p_pos=0.9909640148604447, p_neg=0.009035985139553417)\n",
      "Sentiment(classification='pos', p_pos=0.984480883950015, p_neg=0.01551911604998984)\n",
      "Sentiment(classification='neg', p_pos=0.04389472085982608, p_neg=0.9561052791401792)\n",
      "Sentiment(classification='pos', p_pos=0.9909640148604447, p_neg=0.009035985139553417)\n",
      "Sentiment(classification='pos', p_pos=0.984480883950015, p_neg=0.01551911604998984)\n",
      "Sentiment(classification='pos', p_pos=0.9999989019210211, p_neg=1.0980789729775714e-06)\n",
      "Sentiment(classification='pos', p_pos=0.6475806055115502, p_neg=0.3524193944884454)\n",
      "Sentiment(classification='pos', p_pos=0.9702613948667961, p_neg=0.02973860513320544)\n",
      "Sentiment(classification='pos', p_pos=0.9610391742505482, p_neg=0.03896082574944997)\n",
      "Sentiment(classification='pos', p_pos=0.991335685693161, p_neg=0.00866431430683738)\n",
      "Sentiment(classification='pos', p_pos=0.9999581120863449, p_neg=4.1887913670726154e-05)\n",
      "Sentiment(classification='pos', p_pos=0.514855308387885, p_neg=0.48514469161211693)\n",
      "Sentiment(classification='pos', p_pos=0.9999999547502461, p_neg=4.5249760184057435e-08)\n",
      "Sentiment(classification='pos', p_pos=0.9378472207437611, p_neg=0.0621527792562324)\n",
      "Sentiment(classification='pos', p_pos=0.9932408460631789, p_neg=0.006759153936821311)\n",
      "Sentiment(classification='pos', p_pos=0.7613636363636361, p_neg=0.23863636363636354)\n",
      "Sentiment(classification='pos', p_pos=0.9999988061626707, p_neg=1.1938373110231429e-06)\n",
      "Sentiment(classification='pos', p_pos=0.9995311244270917, p_neg=0.00046887557290698775)\n",
      "Sentiment(classification='pos', p_pos=0.9985955945906255, p_neg=0.0014044054093713912)\n",
      "Sentiment(classification='pos', p_pos=0.8373391495944844, p_neg=0.1626608504055163)\n",
      "Sentiment(classification='pos', p_pos=0.9996986325484027, p_neg=0.00030136745159003243)\n",
      "Sentiment(classification='pos', p_pos=0.5061591391771354, p_neg=0.4938408608228644)\n",
      "Sentiment(classification='pos', p_pos=0.6401832107072676, p_neg=0.35981678929272926)\n",
      "Sentiment(classification='pos', p_pos=0.8380035417859193, p_neg=0.16199645821408176)\n",
      "Sentiment(classification='pos', p_pos=0.9966674802399004, p_neg=0.0033325197601011716)\n",
      "Sentiment(classification='pos', p_pos=0.9999999910966675, p_neg=8.903352247916867e-09)\n",
      "Sentiment(classification='pos', p_pos=0.5353357561429318, p_neg=0.46466424385706384)\n",
      "Sentiment(classification='pos', p_pos=0.9994657874303456, p_neg=0.0005342125696545107)\n",
      "Sentiment(classification='pos', p_pos=0.5353357561429318, p_neg=0.46466424385706384)\n",
      "Sentiment(classification='pos', p_pos=0.999401952360246, p_neg=0.0005980476397699884)\n",
      "Sentiment(classification='pos', p_pos=0.9708250962903983, p_neg=0.029174903709597508)\n",
      "Sentiment(classification='pos', p_pos=0.5975609756097561, p_neg=0.4024390243902436)\n",
      "Sentiment(classification='pos', p_pos=0.5975609756097561, p_neg=0.4024390243902436)\n",
      "Sentiment(classification='neg', p_pos=0.09318230114418709, p_neg=0.906817698855812)\n",
      "Sentiment(classification='neg', p_pos=0.46544150955926145, p_neg=0.5345584904407386)\n",
      "Sentiment(classification='pos', p_pos=0.9332986314221217, p_neg=0.06670136857787078)\n",
      "Sentiment(classification='pos', p_pos=0.9999706575583578, p_neg=2.9342441644447326e-05)\n",
      "Sentiment(classification='pos', p_pos=0.6615429675286595, p_neg=0.33845703247134135)\n",
      "Sentiment(classification='pos', p_pos=0.9649512435606595, p_neg=0.035048756439339857)\n",
      "Sentiment(classification='pos', p_pos=0.9816990301806183, p_neg=0.018300969819379738)\n",
      "Sentiment(classification='pos', p_pos=0.998819005482219, p_neg=0.001180994517783704)\n",
      "Sentiment(classification='pos', p_pos=0.9999676155725545, p_neg=3.2384427445855404e-05)\n",
      "Sentiment(classification='pos', p_pos=0.8338206782876306, p_neg=0.16617932171236563)\n",
      "Sentiment(classification='pos', p_pos=0.7857938172924425, p_neg=0.21420618270755645)\n",
      "Sentiment(classification='pos', p_pos=0.9980713319061149, p_neg=0.0019286680938836484)\n",
      "Sentiment(classification='pos', p_pos=0.7694412541606032, p_neg=0.23055874583939234)\n",
      "Sentiment(classification='pos', p_pos=0.8412464422175678, p_neg=0.1587535577824311)\n",
      "Sentiment(classification='pos', p_pos=0.9997827460898624, p_neg=0.00021725391014064898)\n",
      "Sentiment(classification='pos', p_pos=0.9993164786729509, p_neg=0.0006835213270392412)\n",
      "Sentiment(classification='neg', p_pos=0.4764163291097791, p_neg=0.523583670890222)\n",
      "Sentiment(classification='pos', p_pos=0.6951122921079286, p_neg=0.3048877078920672)\n",
      "Sentiment(classification='pos', p_pos=0.9988060287911498, p_neg=0.00119397120886882)\n",
      "Sentiment(classification='neg', p_pos=0.4560021294406755, p_neg=0.5439978705593242)\n",
      "Sentiment(classification='pos', p_pos=0.9842690366201254, p_neg=0.015730963379879708)\n",
      "Sentiment(classification='pos', p_pos=0.9980777017822626, p_neg=0.001922298217741039)\n",
      "Sentiment(classification='pos', p_pos=0.9487389617038525, p_neg=0.05126103829614662)\n",
      "Sentiment(classification='pos', p_pos=0.9999746475690104, p_neg=2.5352430986716907e-05)\n",
      "Sentiment(classification='pos', p_pos=0.9940078936448244, p_neg=0.005992106355171856)\n",
      "Sentiment(classification='pos', p_pos=0.9152184200951449, p_neg=0.08478157990485408)\n",
      "Sentiment(classification='pos', p_pos=0.8456142637875637, p_neg=0.15438573621243504)\n",
      "Sentiment(classification='neg', p_pos=0.2559640203363313, p_neg=0.7440359796636679)\n",
      "Sentiment(classification='pos', p_pos=0.999641885650752, p_neg=0.000358114349257778)\n",
      "Sentiment(classification='pos', p_pos=0.9961208621749923, p_neg=0.0038791378250019153)\n",
      "Sentiment(classification='pos', p_pos=0.8877158361828924, p_neg=0.11228416381710783)\n",
      "Sentiment(classification='pos', p_pos=0.999988816137424, p_neg=1.1183862564555839e-05)\n",
      "Sentiment(classification='pos', p_pos=0.7240842670605615, p_neg=0.27591573293943794)\n",
      "Sentiment(classification='pos', p_pos=0.9945287238975048, p_neg=0.005471276102497051)\n",
      "Sentiment(classification='neg', p_pos=0.45435231289675393, p_neg=0.545647687103246)\n",
      "Sentiment(classification='pos', p_pos=0.9998649069886498, p_neg=0.00013509301134681512)\n",
      "Sentiment(classification='pos', p_pos=0.7181963057607056, p_neg=0.2818036942392963)\n",
      "Sentiment(classification='pos', p_pos=0.9999184345962203, p_neg=8.156540376833536e-05)\n",
      "Sentiment(classification='pos', p_pos=0.9909141479999249, p_neg=0.009085852000071646)\n",
      "Sentiment(classification='pos', p_pos=0.9999945646760712, p_neg=5.435323934593311e-06)\n",
      "Sentiment(classification='pos', p_pos=0.9999997908012189, p_neg=2.0919879482584928e-07)\n",
      "Sentiment(classification='pos', p_pos=0.5353357561429318, p_neg=0.46466424385706384)\n",
      "Sentiment(classification='pos', p_pos=0.9985313063287279, p_neg=0.0014686936712781633)\n",
      "Sentiment(classification='pos', p_pos=0.5353357561429318, p_neg=0.46466424385706384)\n",
      "Sentiment(classification='pos', p_pos=0.9999707920379725, p_neg=2.92079620342927e-05)\n",
      "Sentiment(classification='pos', p_pos=0.9790198742328029, p_neg=0.020980125767197644)\n",
      "Sentiment(classification='pos', p_pos=0.9999939734685586, p_neg=6.026531445889363e-06)\n",
      "Sentiment(classification='pos', p_pos=0.7764777504671161, p_neg=0.22352224953288213)\n",
      "Sentiment(classification='neg', p_pos=0.4764163291097791, p_neg=0.523583670890222)\n",
      "Sentiment(classification='pos', p_pos=0.9996690175505843, p_neg=0.0003309824494194116)\n",
      "Sentiment(classification='pos', p_pos=0.978100388659498, p_neg=0.02189961134050075)\n",
      "Sentiment(classification='pos', p_pos=0.999438780752138, p_neg=0.0005612192478539463)\n",
      "Sentiment(classification='pos', p_pos=0.9992256881891802, p_neg=0.0007743118108342237)\n",
      "Sentiment(classification='pos', p_pos=0.9909640148604447, p_neg=0.009035985139553417)\n",
      "Sentiment(classification='pos', p_pos=0.984480883950015, p_neg=0.01551911604998984)\n",
      "Sentiment(classification='neg', p_pos=0.03303901964069586, p_neg=0.9669609803592999)\n",
      "Sentiment(classification='pos', p_pos=0.9909640148604447, p_neg=0.009035985139553417)\n",
      "Sentiment(classification='pos', p_pos=0.984480883950015, p_neg=0.01551911604998984)\n",
      "Sentiment(classification='pos', p_pos=0.9999982978221188, p_neg=1.7021778654107422e-06)\n",
      "Sentiment(classification='pos', p_pos=0.6475806055115502, p_neg=0.3524193944884454)\n",
      "Sentiment(classification='pos', p_pos=0.9702613948667961, p_neg=0.02973860513320544)\n",
      "Sentiment(classification='pos', p_pos=0.9853752325440835, p_neg=0.014624767455909236)\n",
      "Sentiment(classification='pos', p_pos=0.991335685693161, p_neg=0.00866431430683738)\n",
      "Sentiment(classification='pos', p_pos=0.9543309607517217, p_neg=0.04566903924828624)\n",
      "Sentiment(classification='pos', p_pos=0.514855308387885, p_neg=0.48514469161211693)\n",
      "Sentiment(classification='pos', p_pos=0.9575671500586467, p_neg=0.04243284994135612)\n",
      "Sentiment(classification='pos', p_pos=0.999999499439876, p_neg=5.005601397448855e-07)\n",
      "Sentiment(classification='pos', p_pos=0.9378472207437611, p_neg=0.0621527792562324)\n",
      "Sentiment(classification='pos', p_pos=0.9980631421348359, p_neg=0.001936857865157466)\n",
      "Sentiment(classification='pos', p_pos=0.7613636363636361, p_neg=0.23863636363636354)\n",
      "Sentiment(classification='pos', p_pos=0.9999997099217239, p_neg=2.9007826663937305e-07)\n",
      "Sentiment(classification='pos', p_pos=0.8924256344606306, p_neg=0.10757436553937313)\n",
      "Sentiment(classification='neg', p_pos=0.461392597875486, p_neg=0.5386074021245109)\n"
     ]
    }
   ],
   "source": [
    "for sentence in myTextBlob2.sentences:\n",
    "    print(sentence.sentiment)"
   ]
  },
  {
   "cell_type": "markdown",
   "id": "f526ec3a",
   "metadata": {},
   "source": [
    "## Summary of differences\n",
    "Based on the results from the standard analyzer and the NaiveBayesAnalyzer, it would seem that the NaiveBayesAnalyzer had some trouble processing the sentiment of the article, as it marked it as a \"1\" with positivity and a near 0 with negativity. If you read the article, you will find it to be mostly objective but slightly negative, as it is about a prison fire in Iran. The standard analyzer seemed to pick up on this as it gave it a polarity of -0.26, which is slightly negative overall. I think that NaiveBayesAnalyzer was confused by the language of the article as this article is clearly not a 1 on the positivity scale."
   ]
  }
 ],
 "metadata": {
  "kernelspec": {
   "display_name": "Python 3 (ipykernel)",
   "language": "python",
   "name": "python3"
  },
  "language_info": {
   "codemirror_mode": {
    "name": "ipython",
    "version": 3
   },
   "file_extension": ".py",
   "mimetype": "text/x-python",
   "name": "python",
   "nbconvert_exporter": "python",
   "pygments_lexer": "ipython3",
   "version": "3.10.6"
  }
 },
 "nbformat": 4,
 "nbformat_minor": 5
}
