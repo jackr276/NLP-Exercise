{
 "cells": [
  {
   "cell_type": "markdown",
   "id": "9a70e3c8",
   "metadata": {},
   "source": [
    "# Jack Robbins\n",
    "## 10/23/2022"
   ]
  },
  {
   "cell_type": "markdown",
   "id": "e6e35dce",
   "metadata": {},
   "source": [
    "All needed import statements"
   ]
  },
  {
   "cell_type": "code",
   "execution_count": 7,
   "id": "d1adbc24",
   "metadata": {},
   "outputs": [],
   "source": [
    "import requests\n",
    "from bs4 import BeautifulSoup\n",
    "from textblob import TextBlob\n",
    "from textblob.sentiments import NaiveBayesAnalyzer"
   ]
  },
  {
   "cell_type": "markdown",
   "id": "2553d4fc",
   "metadata": {},
   "source": [
    "# Problem 12.3 from the textbook\n",
    "Pull in the news article\n",
    "Article being used: https://apnews.com/article/iran-technology-dubai-middle-east-business-944d99079fca61439d64054db6bde941?utm_source=homepage&utm_medium=TopNews&utm_campaign=position_02"
   ]
  },
  {
   "cell_type": "code",
   "execution_count": 8,
   "id": "32da680f",
   "metadata": {},
   "outputs": [],
   "source": [
    "news_article = requests.get('https://apnews.com/article/iran-technology-dubai-middle-east-business-944d99079fca61439d64054db6bde941?utm_source=homepage&utm_medium=TopNews&utm_campaign=position_02')"
   ]
  },
  {
   "cell_type": "markdown",
   "id": "3fea0298",
   "metadata": {},
   "source": [
    "Create a textblob out of the article and perform the sentiment analysis for the entire article"
   ]
  },
  {
   "cell_type": "code",
   "execution_count": 9,
   "id": "cd1ac28c",
   "metadata": {},
   "outputs": [
    {
     "data": {
      "text/plain": [
       "Sentiment(polarity=-0.05, subjectivity=0.4)"
      ]
     },
     "execution_count": 9,
     "metadata": {},
     "output_type": "execute_result"
    }
   ],
   "source": [
    "soup = BeautifulSoup(news_article.content, 'html5lib')\n",
    "text = soup.get_text(strip = True)\n",
    "myTextBlob = TextBlob(text)\n",
    "myTextBlob.sentiment"
   ]
  },
  {
   "cell_type": "markdown",
   "id": "d166cdab",
   "metadata": {},
   "source": [
    "Perform sentiment analysis for each of the sentences"
   ]
  },
  {
   "cell_type": "code",
   "execution_count": 10,
   "id": "e65769d7",
   "metadata": {},
   "outputs": [
    {
     "name": "stdout",
     "output_type": "stream",
     "text": [
      "Sentiment(polarity=-0.05, subjectivity=0.4)\n"
     ]
    }
   ],
   "source": [
    "for sentence in myTextBlob.sentences:\n",
    "    print(sentence.sentiment)"
   ]
  },
  {
   "cell_type": "markdown",
   "id": "1d62528f",
   "metadata": {},
   "source": [
    "# Problem 12.4 from the textbook\n",
    "\n",
    "Same process as 12.3, but now using the naiveBayesAnalyzer instead"
   ]
  },
  {
   "cell_type": "code",
   "execution_count": 11,
   "id": "330fec4b",
   "metadata": {},
   "outputs": [
    {
     "data": {
      "text/plain": [
       "Sentiment(classification='neg', p_pos=0.365109878784233, p_neg=0.6348901212157673)"
      ]
     },
     "execution_count": 11,
     "metadata": {},
     "output_type": "execute_result"
    }
   ],
   "source": [
    "myTextBlob2 = TextBlob(text, analyzer = NaiveBayesAnalyzer())\n",
    "myTextBlob2.sentiment"
   ]
  },
  {
   "cell_type": "markdown",
   "id": "c8947d63",
   "metadata": {},
   "source": [
    "Perform sentiment analysis on every sentence"
   ]
  },
  {
   "cell_type": "code",
   "execution_count": 12,
   "id": "a3c6871b",
   "metadata": {},
   "outputs": [
    {
     "name": "stdout",
     "output_type": "stream",
     "text": [
      "Sentiment(classification='neg', p_pos=0.365109878784233, p_neg=0.6348901212157673)\n"
     ]
    }
   ],
   "source": [
    "for sentence in myTextBlob2.sentences:\n",
    "    print(sentence.sentiment)"
   ]
  },
  {
   "cell_type": "markdown",
   "id": "f526ec3a",
   "metadata": {},
   "source": [
    "## Summary of differences\n",
    "Based on the results from the standard analyzer and the NaiveBayesAnalyzer, it would seem that the NaiveBayesAnalyzer had some trouble processing the sentiment of the article, as it marked it as a \"1\" with positivity and a near 0 with negativity. If you read the article, you will find it to be mostly objective but slightly negative, as it is about a prison fire in Iran. The standard analyzer seemed to pick up on this as it gave it a polarity of -0.26, which is slightly negative overall. I think that NaiveBayesAnalyzer was confused by the language of the article as this article is clearly not a 1 on the positivity scale."
   ]
  }
 ],
 "metadata": {
  "kernelspec": {
   "display_name": "Python 3.10.6 64-bit",
   "language": "python",
   "name": "python3"
  },
  "language_info": {
   "codemirror_mode": {
    "name": "ipython",
    "version": 3
   },
   "file_extension": ".py",
   "mimetype": "text/x-python",
   "name": "python",
   "nbconvert_exporter": "python",
   "pygments_lexer": "ipython3",
   "version": "3.10.6"
  },
  "vscode": {
   "interpreter": {
    "hash": "916dbcbb3f70747c44a77c7bcd40155683ae19c65e1c03b4aa3499c5328201f1"
   }
  }
 },
 "nbformat": 4,
 "nbformat_minor": 5
}
